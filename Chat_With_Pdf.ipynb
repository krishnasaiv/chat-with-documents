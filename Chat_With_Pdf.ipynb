{
  "nbformat": 4,
  "nbformat_minor": 0,
  "metadata": {
    "colab": {
      "provenance": [],
      "authorship_tag": "ABX9TyPUeVDDPaeGUH4LMkPHwIHQ",
      "include_colab_link": true
    },
    "kernelspec": {
      "name": "python3",
      "display_name": "Python 3"
    },
    "language_info": {
      "name": "python"
    }
  },
  "cells": [
    {
      "cell_type": "markdown",
      "metadata": {
        "id": "view-in-github",
        "colab_type": "text"
      },
      "source": [
        "<a href=\"https://colab.research.google.com/github/krishnasaiv/chat-with-your-documents/blob/main/Chat_With_Pdf.ipynb\" target=\"_parent\"><img src=\"https://colab.research.google.com/assets/colab-badge.svg\" alt=\"Open In Colab\"/></a>"
      ]
    },
    {
      "cell_type": "markdown",
      "source": [
        "### Steps\n",
        "\n",
        "\n",
        "1.   Read pdf file ( singular first )\n",
        "2.   Chunk it\n",
        "3.   Extract Embeddings\n",
        "4.   Build an embedding index & store them in a vector database\n",
        "5.   Perform Vector search with Queries & extract most relevant chunks\n",
        "6.   Use the searched chunks as inputs to the model and answer the query"
      ],
      "metadata": {
        "id": "sLXcDlPmOQzS"
      }
    },
    {
      "cell_type": "code",
      "execution_count": null,
      "metadata": {
        "id": "SK4wQggKOPt4"
      },
      "outputs": [],
      "source": []
    }
  ]
}
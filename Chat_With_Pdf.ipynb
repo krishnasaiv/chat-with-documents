{
  "nbformat": 4,
  "nbformat_minor": 0,
  "metadata": {
    "colab": {
      "provenance": [],
      "authorship_tag": "ABX9TyNBeJ3FpTcXrrwDHB5tydvN",
      "include_colab_link": true
    },
    "kernelspec": {
      "name": "python3",
      "display_name": "Python 3"
    },
    "language_info": {
      "name": "python"
    }
  },
  "cells": [
    {
      "cell_type": "markdown",
      "metadata": {
        "id": "view-in-github",
        "colab_type": "text"
      },
      "source": [
        "<a href=\"https://colab.research.google.com/github/krishnasaiv/chat-with-your-documents/blob/main/Chat_With_Pdf.ipynb\" target=\"_parent\"><img src=\"https://colab.research.google.com/assets/colab-badge.svg\" alt=\"Open In Colab\"/></a>"
      ]
    },
    {
      "cell_type": "markdown",
      "source": [
        "### Steps\n",
        "\n",
        "\n",
        "1.   Read pdf file (singular first)\n",
        "2.   Chunk it\n",
        "3.   Extract Embeddings ([Instruct Embeddings](https://huggingface.co/hkunlp/instructor-xl) )\n",
        "4.   Build an embedding index & store them in a vector database (Faiss)\n",
        "5.   Perform Vector search with Queries & extract most relevant chunks\n",
        "6.   Use the searched chunks as inputs to LLM and answer the query  ([Facebook LLaMa2](https://huggingface.co/spaces/HuggingFaceH4/open_llm_leaderboard))"
      ],
      "metadata": {
        "id": "sLXcDlPmOQzS"
      }
    },
    {
      "cell_type": "markdown",
      "source": [
        "### Read Pdf Files\n",
        "\n",
        "\n",
        "**Upload your Pdf Files before running**"
      ],
      "metadata": {
        "id": "j7_E-1bRQIOm"
      }
    },
    {
      "cell_type": "code",
      "execution_count": 2,
      "metadata": {
        "id": "SK4wQggKOPt4",
        "colab": {
          "base_uri": "https://localhost:8080/"
        },
        "outputId": "17edabb4-85e1-4891-f6a0-381436d5c737"
      },
      "outputs": [
        {
          "output_type": "stream",
          "name": "stdout",
          "text": [
            "Collecting PyPDF2\n",
            "  Downloading pypdf2-3.0.1-py3-none-any.whl (232 kB)\n",
            "\u001b[2K     \u001b[90m━━━━━━━━━━━━━━━━━━━━━━━━━━━━━━━━━━━━━━━\u001b[0m \u001b[32m232.6/232.6 kB\u001b[0m \u001b[31m3.9 MB/s\u001b[0m eta \u001b[36m0:00:00\u001b[0m\n",
            "\u001b[?25hInstalling collected packages: PyPDF2\n",
            "Successfully installed PyPDF2-3.0.1\n"
          ]
        }
      ],
      "source": [
        "! pip install PyPDF2\n",
        "from PyPDF2 import PdfReader\n",
        "\n",
        "\n",
        "Þ"
      ]
    }
  ]
}